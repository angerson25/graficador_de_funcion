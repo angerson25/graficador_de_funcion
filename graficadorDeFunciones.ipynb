{
  "nbformat": 4,
  "nbformat_minor": 0,
  "metadata": {
    "colab": {
      "provenance": [],
      "authorship_tag": "ABX9TyP+1ReUpZJScJBTElEiYU3R",
      "include_colab_link": true
    },
    "kernelspec": {
      "name": "python3",
      "display_name": "Python 3"
    },
    "language_info": {
      "name": "python"
    }
  },
  "cells": [
    {
      "cell_type": "markdown",
      "metadata": {
        "id": "view-in-github",
        "colab_type": "text"
      },
      "source": [
        "<a href=\"https://colab.research.google.com/github/angerson25/graficador_de_funcion/blob/main/graficadorDeFunciones.ipynb\" target=\"_parent\"><img src=\"https://colab.research.google.com/assets/colab-badge.svg\" alt=\"Open In Colab\"/></a>"
      ]
    },
    {
      "cell_type": "markdown",
      "source": [
        "# Grafica de una funcion lineal"
      ],
      "metadata": {
        "id": "Y5onVAIHCGGw"
      }
    },
    {
      "cell_type": "code",
      "execution_count": 3,
      "metadata": {
        "id": "B9WdAlfqCERD"
      },
      "outputs": [],
      "source": [
        "#importamos la libreria matplotlib y numpy y le asignamos un alias\n",
        "import numpy as np\n",
        "import matplotlib.pyplot as plt"
      ]
    },
    {
      "cell_type": "code",
      "source": [
        "#programa para graficar una linea recta, con base en la ecuacion y = mx + b\n",
        "#m es la pendiente de la recta\n",
        "#b es el punto de corte con el eje y\n",
        "\n",
        "#numero de puntos a graficar\n",
        "N=100\n",
        "\n",
        "#funcion para calcular los valores de y\n",
        "\n",
        "def funcion_lineal(m,b,x):\n",
        "  return m*x + b\n",
        "\n",
        "#input\n",
        "print(\"----------------------\")\n",
        "print(\"----FUNCION LINEAL----\")\n",
        "print(\"------y = mx + b------\")\n",
        "print(\"----------------------\")\n",
        "\n",
        "m= int(input(\"Digite el valor de la pendiente: \"))\n",
        "b= int(input(\"Digite el valor del punto de corte con el eje y: \"))\n",
        "\n",
        "#processing - graphication\n",
        "x = np.linspace(-10,10, num=N)\n",
        "y= funcion_lineal(m,b,x)\n",
        "\n",
        "plt.plot(x,y, color=\"r\")\n",
        "plt.xlabel(\"x\")\n",
        "plt.ylabel(\"y\")\n",
        "plt.title(\"Funcion lineal> y=mx +b \")\n",
        "plt.grid()\n",
        "plt.axhline(y=0, color=\"b\")\n",
        "plt.axvline(x=0, color=\"b\")\n",
        "plt.show()"
      ],
      "metadata": {
        "id": "RDyFg1Y9CaQw"
      },
      "execution_count": null,
      "outputs": []
    },
    {
      "cell_type": "code",
      "source": [
        "print(\"Bienvenido al graficador de funciones\\n\")\n",
        "print(\"Graficas: \\n\")\n",
        "# Se despliega el menu\n",
        "print(\"1. Funcion lineal\")\n",
        "print(\"2. Funcion cuadratica\")\n",
        "print(\"3. Funcion cubica\")\n",
        "print(\"4. Funcion exponencial\")\n",
        "print(\"5. Funcion logaritmica\")\n",
        "print(\"6. Funcion trigonometrica\")\n",
        "\n",
        "grafica=int(input(\"\\nDigite su opcion: \"))\n",
        "\n",
        "#PROCESAMIENTO\n",
        "if(grafica==1):\n",
        "  print(\"Funcion lineal\\n\")\n",
        "elif(grafica==2):\n",
        "    info=\"Nombre: Jamaica \\nCodigo: 2 \\nCapital: Kingston \\nContinente: America \\nIdioma: Ingles y Patois jamaicano \\nReligion: Cristianismo \\nMoneda: Dolar jamaicano\"\n",
        "elif(grafica==3):\n",
        "    info=\"Nombre: Rusia \\nCodigo: 3 \\nCapital: Moscu \\nContinente: Europa y Asia \\nIdioma: Ruso \\nReligion: Cristianismo \\nMoneda: Rublo ruso\"\n",
        "elif(grafica==4):\n",
        "    info=\"Nombre: Japon \\nCodigo: 4 \\nCapital: Tokio \\nContinente: Asia \\nIdioma: Japones \\nReligion: Irreligion \\nMoneda: Yen japones\"\n",
        "elif(grafica==5):\n",
        "    info=\"Nombre: Ghana \\nCodigo: 5 \\nCapital: Acra \\nContinente: Africa \\nIdioma: Ingles \\nReligion: Cristianismo \\nMoneda: Cedi\"\n",
        "elif(grafica==6):\n",
        "  info=\"t\"\n",
        "else:\n",
        "    print(\"ERROR, opcion no disponible\")"
      ],
      "metadata": {
        "id": "HnUO1jP4Ip-b"
      },
      "execution_count": null,
      "outputs": []
    }
  ]
}