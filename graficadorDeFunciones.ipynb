{
  "nbformat": 4,
  "nbformat_minor": 0,
  "metadata": {
    "colab": {
      "provenance": [],
      "authorship_tag": "ABX9TyO5G9xCQaAGyj4k6MgQQXR6",
      "include_colab_link": true
    },
    "kernelspec": {
      "name": "python3",
      "display_name": "Python 3"
    },
    "language_info": {
      "name": "python"
    }
  },
  "cells": [
    {
      "cell_type": "markdown",
      "metadata": {
        "id": "view-in-github",
        "colab_type": "text"
      },
      "source": [
        "<a href=\"https://colab.research.google.com/github/angerson25/graficador_de_funcion/blob/main/graficadorDeFunciones.ipynb\" target=\"_parent\"><img src=\"https://colab.research.google.com/assets/colab-badge.svg\" alt=\"Open In Colab\"/></a>"
      ]
    },
    {
      "cell_type": "markdown",
      "source": [
        "# Grafica de una funcion lineal"
      ],
      "metadata": {
        "id": "Y5onVAIHCGGw"
      }
    },
    {
      "cell_type": "code",
      "execution_count": 13,
      "metadata": {
        "id": "B9WdAlfqCERD"
      },
      "outputs": [],
      "source": [
        "#importamos la libreria matplotlib y numpy y le asignamos un alias\n",
        "import numpy as np\n",
        "import matplotlib.pyplot as plt"
      ]
    },
    {
      "cell_type": "code",
      "source": [
        "import math\n",
        "\n",
        "print(\"Bienvenido al graficador de funciones\\n\")\n",
        "print(\"Graficas: \\n\")\n",
        "# Se despliega el menu\n",
        "print(\"1. Funcion lineal\")\n",
        "print(\"2. Funcion cuadratica\")\n",
        "print(\"3. Funcion cubica\")\n",
        "print(\"4. Funcion exponencial\")\n",
        "print(\"5. Funcion logaritmica\")\n",
        "print(\"6. Funcion trigonometrica\")\n",
        "\n",
        "grafica=int(input(\"\\nDigite su opcion: \"))\n",
        "\n",
        "\n",
        "\n",
        "#PROCESAMIENTO\n",
        "if(grafica==1):\n",
        "  def funcion_lineal(m,b,x):\n",
        "    return m*x + b\n",
        "  print(\"\\nFuncion lineal. y= mx + b\")\n",
        "  m= int(input(\"Digite la pendiente: \"))\n",
        "  b= int(input(\"Digite el punto de corte con el punto y: \"))\n",
        "  x = np.linspace(-10,10, num=100)\n",
        "  y= funcion_lineal(m,b,x)\n",
        "\n",
        "  plt.plot(x,y, color=\"r\")\n",
        "  plt.xlabel(\"x\")\n",
        "  plt.ylabel(\"y\")\n",
        "  plt.title(\"Funcion lineal\")\n",
        "  plt.grid()\n",
        "  plt.axhline(y=0, color=\"b\")\n",
        "  plt.axvline(x=0, color=\"b\")\n",
        "  plt.show()\n",
        "\n",
        "elif(grafica==2):\n",
        "  print(\"\\nFuncion cuadratica. y = ax^2 + bx +c\")\n",
        "  a= int(input(\"Digite el valor de a: \"))\n",
        "  b= int(input(\"Digite el valor de b: \"))\n",
        "  c= int(input(\"Digite el valor de c: \"))\n",
        "  x = np.linspace(-10,10, num=100)\n",
        "  def funcion_cuadratica(a,b,c,x):\n",
        "    return a*(x**2) + b*x + c\n",
        "  y= funcion_cuadratica(a,b,c,x)\n",
        "\n",
        "  plt.plot(x,y, color=\"r\")\n",
        "  plt.xlabel(\"x\")\n",
        "  plt.ylabel(\"y\")\n",
        "  plt.title(\"Funcion cuadratica\")\n",
        "  plt.grid()\n",
        "  plt.axhline(y=0, color=\"b\")\n",
        "  plt.axvline(x=0, color=\"b\")\n",
        "  plt.show()\n",
        "\n",
        "elif(grafica==3):\n",
        "  def funcion_cubica(a,x,b,c,d):\n",
        "    return a*x*3+b*x*2+c*x+d\n",
        "  a=int(input(\"Digite el valor del coeficiente de a:\"))\n",
        "  b=int(input(\"Digite el valor del coeficiente b:\"))\n",
        "  c=int(input(\"DIgite el valor del coeficiente c: \"))\n",
        "  d=int(input(\"Digite el valode del termino independiente: \"))\n",
        "\n",
        "\n",
        "  x=np.linspace(-10,10, num=100)\n",
        "  y= funcion_cubica(a,x,b,c,d)\n",
        "  plt.plot(x,y,color=\"r\")\n",
        "  plt.xlabel(\"x\")\n",
        "  plt.ylabel(\"y\")\n",
        "  plt.title(\"Funcion Cubica: y=a*x*3+b*x*2+c*x+d\")\n",
        "  plt.grid()\n",
        "  plt.axhline(y=0,color=\"b\")\n",
        "  plt.axvline(x=0, color=\"b\")\n",
        "  plt.show()\n",
        "elif(grafica==4):\n",
        "  \n",
        "elif(grafica==5):\n",
        "  \n",
        "elif(grafica==6):\n",
        "  \n",
        "else:\n",
        "    print(\"ERROR, opcion no disponible\")"
      ],
      "metadata": {
        "colab": {
          "base_uri": "https://localhost:8080/"
        },
        "id": "HnUO1jP4Ip-b",
        "outputId": "3297ec04-bef5-4650-d3a8-f06b6a972e95"
      },
      "execution_count": null,
      "outputs": [
        {
          "name": "stdout",
          "output_type": "stream",
          "text": [
            "Bienvenido al graficador de funciones\n",
            "\n",
            "Graficas: \n",
            "\n",
            "1. Funcion lineal\n",
            "2. Funcion cuadratica\n",
            "3. Funcion cubica\n",
            "4. Funcion exponencial\n",
            "5. Funcion logaritmica\n",
            "6. Funcion trigonometrica\n",
            "\n",
            "Digite su opcion: 3\n"
          ]
        }
      ]
    },
    {
      "cell_type": "code",
      "source": [],
      "metadata": {
        "id": "xIv_5Us1WA2v"
      },
      "execution_count": null,
      "outputs": []
    }
  ]
}